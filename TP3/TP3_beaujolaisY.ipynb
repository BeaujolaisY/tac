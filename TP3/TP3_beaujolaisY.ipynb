{
 "cells": [
  {
   "cell_type": "markdown",
   "id": "70afd363-a2ff-40d1-abb7-8bda34b85ff2",
   "metadata": {},
   "source": [
    "# Partie I clustering des documents de la décennie 1960 "
   ]
  },
  {
   "cell_type": "markdown",
   "id": "a41cc150-9ccf-4354-9d66-b76f8dfebd41",
   "metadata": {},
   "source": [
    "### Importation des Bibliothèques"
   ]
  },
  {
   "cell_type": "code",
   "execution_count": null,
   "id": "da624b8e-4292-4dd2-9973-2769c5fe4be1",
   "metadata": {},
   "outputs": [],
   "source": [
    "import collections\n",
    "import os\n",
    "import string\n",
    "import sys\n",
    "\n",
    "import pandas as pd\n",
    "from nltk import word_tokenize\n",
    "from nltk.corpus import stopwords\n",
    "from pprint import pprint\n",
    "from sklearn.cluster import KMeans\n",
    "from sklearn.feature_extraction.text import TfidfVectorizer\n",
    "from sklearn.decomposition import PCA\n",
    "import numpy as np\n",
    "import matplotlib.pyplot as plt\n",
    "from scipy.spatial.distance import cosine\n",
    "import nltk\n",
    "\n",
    "nltk.download('punkt')"
   ]
  },
  {
   "cell_type": "markdown",
   "id": "d6238826-50ab-4e5b-bda6-27dcc44e2199",
   "metadata": {},
   "source": []
  },
  {
   "cell_type": "code",
   "execution_count": null,
   "id": "5ca5d043-621e-4cb1-8211-94b7e0522a39",
   "metadata": {},
   "outputs": [],
   "source": [
    "data_path = \"../data/txt/\""
   ]
  },
  {
   "cell_type": "markdown",
   "id": "c2280e66-0ac7-4293-8282-5d05fc9e3ed2",
   "metadata": {},
   "source": [
    "### selection décennie 1960s"
   ]
  },
  {
   "cell_type": "code",
   "execution_count": null,
   "id": "03f76c24-5584-4f84-a0d9-eff5033995da",
   "metadata": {},
   "outputs": [],
   "source": [
    "DECADE = '1960' # on prend tous les doc des année 1960s"
   ]
  },
  {
   "cell_type": "markdown",
   "id": "112a444e-9f79-4907-9150-d902a92e5b0c",
   "metadata": {},
   "source": [
    "### Chargement de tous les fichiers de la décennie 60s et en création d'une liste de textes"
   ]
  },
  {
   "cell_type": "code",
   "execution_count": null,
   "id": "cd72be25-869e-480d-a991-de4285f7c4c1",
   "metadata": {},
   "outputs": [],
   "source": [
    "files = [f for f in sorted(os.listdir(data_path)) if f\"_{DECADE[:-1]}\" in f]"
   ]
  },
  {
   "cell_type": "code",
   "execution_count": null,
   "id": "07031d40-e1b5-403b-ba73-78598e708593",
   "metadata": {},
   "outputs": [],
   "source": [
    "# Exemple de fichiers\n",
    "files[:5] #afin de me rassuserer que tous les doc de ma decennie on été selectionner."
   ]
  },
  {
   "cell_type": "code",
   "execution_count": null,
   "id": "7cc7f252-93ed-483a-a98f-527f48b5933f",
   "metadata": {},
   "outputs": [],
   "source": [
    "texts = [open(data_path + f, \"r\", encoding=\"utf-8\").read() for f in files]"
   ]
  },
  {
   "cell_type": "code",
   "execution_count": null,
   "id": "f67979ab-d8e9-41ec-acd5-2174c7a4d833",
   "metadata": {},
   "outputs": [],
   "source": [
    "# Exemple de textes\n",
    "texts[0][:400]"
   ]
  },
  {
   "cell_type": "markdown",
   "id": "1577210e-6b96-4861-9b5a-3c4ca453141f",
   "metadata": {},
   "source": [
    "### Vectoriser ( transformé en chiffre) les fichiers à l'aide de TF-IDF"
   ]
  },
  {
   "cell_type": "code",
   "execution_count": null,
   "id": "328d53e6-d368-49d1-8151-f3e897af4b89",
   "metadata": {},
   "outputs": [],
   "source": [
    "# Création d'une fonction de pré-traitement (enlevé les pontuation, mot long, etc...)\n",
    "def preprocessing(text, stem=True):\n",
    "    \"\"\" Tokenize text and remove punctuation \"\"\"\n",
    "    text = text.translate(string.punctuation)\n",
    "    tokens = word_tokenize(text)\n",
    "    return tokens"
   ]
  },
  {
   "cell_type": "markdown",
   "id": "114eb00c-bcd2-402b-862b-40394a5a25f5",
   "metadata": {},
   "source": [
    "### Instancier le modèle TF-IDF avec ses arguments"
   ]
  },
  {
   "cell_type": "code",
   "execution_count": null,
   "id": "1719c222-c728-40c7-84ca-88f7d5ebca32",
   "metadata": {},
   "outputs": [],
   "source": [
    "vectorizer = TfidfVectorizer(\n",
    "    tokenizer=preprocessing,\n",
    "    stop_words=stopwords.words('french'),\n",
    "    max_df=0.5,\n",
    "    min_df=0.1,\n",
    "    lowercase=True)"
   ]
  },
  {
   "cell_type": "markdown",
   "id": "ddf364de-e280-4d65-9750-bc0443183b0e",
   "metadata": {},
   "source": [
    "### Construction de la matrice de vecteurs à l'aide de la fonction `fit_transform`"
   ]
  },
  {
   "cell_type": "code",
   "execution_count": null,
   "id": "f7b14002-6eaa-4775-9194-82b971a21726",
   "metadata": {},
   "outputs": [],
   "source": [
    "tfidf_vectors = vectorizer.fit_transform(texts)"
   ]
  },
  {
   "cell_type": "code",
   "execution_count": null,
   "id": "91f77d21-a5cc-4fdb-a57e-c27d21d5bf94",
   "metadata": {},
   "outputs": [],
   "source": [
    "# Détail de la matrice\n",
    "tfidf_vectors"
   ]
  },
  {
   "cell_type": "markdown",
   "id": "380aeb29-7803-412a-a425-cadb0ab82b80",
   "metadata": {},
   "source": [
    "### Impresion du vecteur tf-IDF du premier document"
   ]
  },
  {
   "cell_type": "code",
   "execution_count": null,
   "id": "434fd8fc-7265-48b5-8198-21586aebd6c3",
   "metadata": {},
   "outputs": [],
   "source": [
    "pd.Series(\n",
    "    tfidf_vectors[0].toarray()[0],\n",
    "    index=vectorizer.get_feature_names_out()\n",
    "    ).sort_values(ascending=False)"
   ]
  },
  {
   "cell_type": "code",
   "execution_count": null,
   "id": "956674da-72a3-42c2-8711-912a2ce1689a",
   "metadata": {},
   "outputs": [],
   "source": [
    "### "
   ]
  },
  {
   "cell_type": "code",
   "execution_count": null,
   "id": "30babe7b-166b-489a-9e1c-265f74bfa309",
   "metadata": {},
   "outputs": [],
   "source": [
    "cosine([1, 2, 3], [1, 2, 3]) # l'idée plus les text son proche plus il on les meme mot plus la distance son proche"
   ]
  },
  {
   "cell_type": "code",
   "execution_count": null,
   "id": "8787c7bc-2d83-4399-bf40-a34e913f3fcc",
   "metadata": {},
   "outputs": [],
   "source": [
    "cosine([1, 2, 3], [1, 2, 2])"
   ]
  },
  {
   "cell_type": "code",
   "execution_count": null,
   "id": "915158f6-cb1f-4f2b-a054-6164d9a98a9c",
   "metadata": {},
   "outputs": [],
   "source": [
    "cosine([1, 2, 3], [2, 2, 2])"
   ]
  },
  {
   "cell_type": "markdown",
   "id": "6671b5f0-f760-44b3-8330-0be8e20ef60c",
   "metadata": {},
   "source": [
    "### Tests sur nos fichiers"
   ]
  },
  {
   "cell_type": "code",
   "execution_count": null,
   "id": "73ec1736-c3cb-4aa3-b4a7-4476a82461fb",
   "metadata": {},
   "outputs": [],
   "source": [
    "tfidf_array = tfidf_vectors.toarray()"
   ]
  },
  {
   "cell_type": "code",
   "execution_count": null,
   "id": "bc339d3f-0a3c-4061-b4d7-0728c357ab97",
   "metadata": {},
   "outputs": [],
   "source": [
    "# Vecteur du document 0\n",
    "tfidf_array[0]"
   ]
  },
  {
   "cell_type": "code",
   "execution_count": null,
   "id": "21f28e1f-3478-4b18-9e02-19f9b97d3a79",
   "metadata": {},
   "outputs": [],
   "source": [
    "# Vecteur du document 1\n",
    "tfidf_array[1]"
   ]
  },
  {
   "cell_type": "code",
   "execution_count": null,
   "id": "02f51718-0d53-4c45-9dc2-188f4997fe1e",
   "metadata": {},
   "outputs": [],
   "source": [
    "cosine(tfidf_array[0], tfidf_array[1])"
   ]
  },
  {
   "cell_type": "markdown",
   "id": "0219fac0-5a18-4cd1-8fc3-ade1ee01126c",
   "metadata": {},
   "source": [
    "### Application du clustering sur les vecteurs TF-IDF des documents¶"
   ]
  },
  {
   "cell_type": "code",
   "execution_count": null,
   "id": "e5f1edee-badc-4d15-b729-7daab2fc8520",
   "metadata": {},
   "outputs": [],
   "source": [
    "# Définition du nombre de clusters\n",
    "N_CLUSTERS = 3 #nous choisisons d'enfaire 3 groupes car le resultat nous semble permtinant"
   ]
  },
  {
   "cell_type": "code",
   "execution_count": null,
   "id": "b228927d-88d1-4819-bc17-269e957315e2",
   "metadata": {},
   "outputs": [],
   "source": [
    "# Instancier le modèle K-Means et ses arguments\n",
    "km_model = KMeans(n_clusters=N_CLUSTERS)"
   ]
  },
  {
   "cell_type": "code",
   "execution_count": null,
   "id": "86a93e7a-6c6d-4f0d-a048-342e5bb4659a",
   "metadata": {},
   "outputs": [],
   "source": [
    "clusters = km_model.fit_predict(tfidf_vectors)"
   ]
  },
  {
   "cell_type": "code",
   "execution_count": null,
   "id": "ab6b4ca0-30d1-4300-ae76-f05444ca62eb",
   "metadata": {},
   "outputs": [],
   "source": [
    "clustering = collections.defaultdict(list)\n",
    "\n",
    "for idx, label in enumerate(clusters):\n",
    "    clustering[label].append(files[idx])"
   ]
  },
  {
   "cell_type": "code",
   "execution_count": null,
   "id": "6db04e2e-5833-4b20-87fc-7fff7b0a232a",
   "metadata": {},
   "outputs": [],
   "source": [
    "pprint(dict(clustering))"
   ]
  },
  {
   "cell_type": "code",
   "execution_count": null,
   "id": "c99a7b9b-8d69-44f3-a9ed-2957fdd49144",
   "metadata": {},
   "outputs": [],
   "source": [
    "pca = PCA(n_components=2)\n",
    "reduced_vectors = pca.fit_transform(tfidf_vectors.toarray())"
   ]
  },
  {
   "cell_type": "code",
   "execution_count": null,
   "id": "8441686f-f0f0-469d-b6d6-95ac96aee931",
   "metadata": {},
   "outputs": [],
   "source": [
    "reduced_vectors[:10]"
   ]
  },
  {
   "cell_type": "markdown",
   "id": "e2df0c3a-5cbe-408b-9629-bf343fa5eb4e",
   "metadata": {},
   "source": [
    "### Générer le plot"
   ]
  },
  {
   "cell_type": "code",
   "execution_count": null,
   "id": "90b540a6-d519-4b21-afaa-ad360a545b8f",
   "metadata": {},
   "outputs": [],
   "source": [
    "x_axis = reduced_vectors[:, 0]\n",
    "y_axis = reduced_vectors[:, 1]\n",
    "\n",
    "plt.figure(figsize=(10,10))\n",
    "scatter = plt.scatter(x_axis, y_axis, s=100, c=clusters)\n",
    "\n",
    "# Ajouter les centroïdes\n",
    "centroids = pca.transform(km_model.cluster_centers_)\n",
    "plt.scatter(centroids[:, 0], centroids[:, 1],  marker = \"x\", s=100, linewidths = 2, color='red')\n",
    "\n",
    "# Ajouter la légende\n",
    "plt.legend(handles=scatter.legend_elements()[0], labels=set(clusters), title=\"Clusters\")"
   ]
  },
  {
   "cell_type": "markdown",
   "id": "22025df4-c0f7-493c-9d8f-d0387d3bc85b",
   "metadata": {},
   "source": []
  },
  {
   "cell_type": "markdown",
   "id": "05534b98-3d9f-417c-872c-ea917c2a26fc",
   "metadata": {},
   "source": []
  },
  {
   "cell_type": "markdown",
   "id": "e4ccce7c-7398-4a7d-a5e8-854e1762f9a2",
   "metadata": {},
   "source": [
    "# Partie II Entraînement d'un modèle word2vec et Exploration grace aux fonctions similarity et most_similar"
   ]
  },
  {
   "cell_type": "markdown",
   "id": "8da61be3-ecfc-43f1-af21-ab54cb72c2de",
   "metadata": {},
   "source": [
    "#### importation des libraries necessaires"
   ]
  },
  {
   "cell_type": "code",
   "execution_count": null,
   "id": "0986a83f-77d0-4c9a-817a-8e88a9a58d73",
   "metadata": {},
   "outputs": [],
   "source": [
    "import sys\n",
    "\n",
    "from gensim.models.phrases import Phrases, Phraser\n",
    "from gensim.models import Word2Vec\n",
    "\n",
    "import nltk\n",
    "from nltk.tokenize import wordpunct_tokenize\n",
    "from unidecode import unidecode"
   ]
  },
  {
   "cell_type": "markdown",
   "id": "a446ec2b-da18-4c1d-8a03-b7d25e4cdefe",
   "metadata": {},
   "source": [
    "###  Création d'un objet qui streame les lignes d'un fichier pour économiser de la RAM"
   ]
  },
  {
   "cell_type": "code",
   "execution_count": null,
   "id": "6d9ae9a2-539b-4245-bc4d-cd242d8ad43b",
   "metadata": {},
   "outputs": [],
   "source": [
    "class MySentences(object):\n",
    "    \"\"\"Tokenize and Lemmatize sentences\"\"\"\n",
    "    def __init__(self, filename):\n",
    "        self.filename = filename\n",
    "\n",
    "    def __iter__(self):\n",
    "        for line in open(self.filename, encoding='utf-8', errors=\"backslashreplace\"):\n",
    "            yield [unidecode(w.lower()) for w in wordpunct_tokenize(line)]"
   ]
  },
  {
   "cell_type": "code",
   "execution_count": null,
   "id": "2b266456-212d-49c3-9bc5-575d587d5f2c",
   "metadata": {},
   "outputs": [],
   "source": [
    "infile = f\"../data/sents.txt\"\n",
    "sentences = MySentences(infile)"
   ]
  },
  {
   "cell_type": "code",
   "execution_count": null,
   "id": "8dec3e51-3d61-4aaa-8d9d-ca8fe77543b3",
   "metadata": {},
   "outputs": [],
   "source": [
    "# Détection des bigrams\n",
    "bigram_phrases = Phrases(sentences)"
   ]
  },
  {
   "cell_type": "code",
   "execution_count": null,
   "id": "57850731-9869-4fe6-940f-de9332f17d1b",
   "metadata": {},
   "outputs": [],
   "source": [
    "type(bigram_phrases.vocab)"
   ]
  },
  {
   "cell_type": "code",
   "execution_count": null,
   "id": "89ee5467-7708-4e26-a688-5d1811a3ba13",
   "metadata": {},
   "outputs": [],
   "source": [
    "len(bigram_phrases.vocab.keys())"
   ]
  },
  {
   "cell_type": "code",
   "execution_count": null,
   "id": "2d35f1d0-a0bc-406e-a2ba-16fa85c8778e",
   "metadata": {},
   "outputs": [],
   "source": [
    "key_ = list(bigram_phrases.vocab.keys())[144]\n",
    "print(key_)"
   ]
  },
  {
   "cell_type": "code",
   "execution_count": null,
   "id": "9b839021-6d77-40c5-95cc-63870b84df4b",
   "metadata": {},
   "outputs": [],
   "source": [
    "bigram_phrases.vocab[key_]"
   ]
  },
  {
   "cell_type": "code",
   "execution_count": null,
   "id": "44537f3d-3364-4d73-a393-4e419020808d",
   "metadata": {},
   "outputs": [],
   "source": [
    "# onversion des Phrases en objet Phraser\n",
    "bigram_phraser = Phraser(phrases_model=bigram_phrases)"
   ]
  },
  {
   "cell_type": "code",
   "execution_count": null,
   "id": "ec5d58fd-03db-4acd-842e-d37c8e8d758a",
   "metadata": {},
   "outputs": [],
   "source": [
    "# Extraction des trigrams\n",
    "trigram_phrases = Phrases(bigram_phraser[sentences])"
   ]
  },
  {
   "cell_type": "code",
   "execution_count": null,
   "id": "15289e7b-3a2a-4ff7-b0c6-1aa76e16a146",
   "metadata": {},
   "outputs": [],
   "source": [
    "trigram_phraser = Phraser(phrases_model=trigram_phrases)"
   ]
  },
  {
   "cell_type": "code",
   "execution_count": null,
   "id": "1b30e7f6-3a88-4be1-87ff-e3e34073f6e6",
   "metadata": {},
   "outputs": [],
   "source": [
    "# Création d'un corpus d'unigrams, bigrams, trigrams\n",
    "corpus = list(trigram_phraser[bigram_phraser[sentences]])"
   ]
  },
  {
   "cell_type": "code",
   "execution_count": null,
   "id": "a9bd6fd3-807b-446b-b4af-1a906b951cf0",
   "metadata": {},
   "outputs": [],
   "source": [
    "print(corpus[:100])"
   ]
  },
  {
   "cell_type": "markdown",
   "id": "d17b1597-e82a-4edf-bea0-7260c7cafc7c",
   "metadata": {},
   "source": [
    "### Entrainement de notre modèle Word2Vec sur ce corpus"
   ]
  },
  {
   "cell_type": "code",
   "execution_count": null,
   "id": "7efc56c4-53bf-42bf-8a6f-0f3c56c98f09",
   "metadata": {},
   "outputs": [],
   "source": [
    "%%time\n",
    "model = Word2Vec(\n",
    "    corpus, # On passe le corpus de ngrams que nous venons de créer\n",
    "    vector_size=32, # Le nombre de dimensions dans lesquelles le contexte des mots devra être réduit, aka. vector_size\n",
    "    window=7, # La taille du \"contexte\", ici 5 mots avant et après le mot observé\n",
    "    min_count=10, # On ignore les mots qui n'apparaissent pas au moins 5 fois dans le corpus (jouer sur la frequence des mot)\n",
    "    workers=4, # Permet de paralléliser l'entraînement du modèle en 4 threads\n",
    "    epochs=5 # Nombre d'itérations du réseau de neurones sur le jeu de données pour ajuster les paramètres avec la descente de gradient, aka. epochs.(plus on a en fait plus ca prend du temps)\n",
    ")"
   ]
  },
  {
   "cell_type": "markdown",
   "id": "39cd1129-5784-41a4-89de-57becb57511e",
   "metadata": {},
   "source": []
  },
  {
   "cell_type": "code",
   "execution_count": null,
   "id": "1a931d5f-84e7-43dd-baae-414c57eb369b",
   "metadata": {},
   "outputs": [],
   "source": [
    "# sauvegarde du modele\n",
    "outfile = f\"../data/newspapers.model\"\n",
    "model.save(outfile)"
   ]
  },
  {
   "cell_type": "markdown",
   "id": "08e1b3a3-e86c-4579-9e05-f2aac66b8fc1",
   "metadata": {},
   "source": [
    "### Exploration  du modèle"
   ]
  },
  {
   "cell_type": "code",
   "execution_count": null,
   "id": "8b1a253c-8c6f-4ca9-a7f3-8784e9b6b5b7",
   "metadata": {},
   "outputs": [],
   "source": [
    "# hargement du modèle\n",
    "model = Word2Vec.load(\"../data/newspapers.model\")"
   ]
  },
  {
   "cell_type": "code",
   "execution_count": null,
   "id": "737c59f9-0fc9-49d4-ba06-cb4044954aa7",
   "metadata": {},
   "outputs": [],
   "source": [
    "model.wv[\"ministre\"] # par exemple on imprime le vecteur du mot ministre"
   ]
  },
  {
   "cell_type": "markdown",
   "id": "7633f5ed-6cf5-4aba-8b43-e7596e2d9d79",
   "metadata": {},
   "source": [
    "### similarité entre deux termes"
   ]
  },
  {
   "cell_type": "code",
   "execution_count": null,
   "id": "297d6735-a6f7-4d2e-bcd1-55be6ac07320",
   "metadata": {},
   "outputs": [],
   "source": [
    "model.wv.similarity(\"ministre\", \"delegue\")"
   ]
  },
  {
   "cell_type": "code",
   "execution_count": null,
   "id": "fc63b778-8813-4ce3-9305-e7f7a4b603a1",
   "metadata": {},
   "outputs": [],
   "source": [
    "model.wv.similarity(\"france\", \"congo\")"
   ]
  },
  {
   "cell_type": "code",
   "execution_count": null,
   "id": "092f5d6c-4b9b-40b4-955d-607668083e42",
   "metadata": {},
   "outputs": [],
   "source": [
    "model.wv.similarity(\"belgique\", \"france\")"
   ]
  },
  {
   "cell_type": "markdown",
   "id": "502e3108-f35c-4f33-8510-df047b12c2d9",
   "metadata": {},
   "source": [
    "### chercher les mots les plus proches d'un terme donné"
   ]
  },
  {
   "cell_type": "code",
   "execution_count": null,
   "id": "646b875e-fbc1-4545-a72d-ffaf09ba2899",
   "metadata": {},
   "outputs": [],
   "source": [
    "model.wv.most_similar(\"president\", topn=10)"
   ]
  },
  {
   "cell_type": "code",
   "execution_count": null,
   "id": "60715670-53e6-4dfe-91aa-1c7c3418bbc0",
   "metadata": {},
   "outputs": [],
   "source": [
    "model.wv.most_similar(\"gouvernement\", topn=10)"
   ]
  },
  {
   "cell_type": "code",
   "execution_count": null,
   "id": "14da7f04-193e-49af-b796-124e70613605",
   "metadata": {},
   "outputs": [],
   "source": [
    "model.wv.most_similar(\"avocat\", topn=10)"
   ]
  },
  {
   "cell_type": "markdown",
   "id": "8256925f-ec49-4f01-b63a-4bdb636634eb",
   "metadata": {},
   "source": [
    "### recherches complexes à travers l'espace vectoriel"
   ]
  },
  {
   "cell_type": "code",
   "execution_count": null,
   "id": "c59ba396-e7ad-49aa-bd3c-ad3220ae4125",
   "metadata": {},
   "outputs": [],
   "source": [
    "print(model.wv.most_similar(positive=['paris', 'londres'], negative=['guinee'])) "
   ]
  },
  {
   "cell_type": "code",
   "execution_count": null,
   "id": "b20e8c8d-f91f-4469-9b7f-6fc5e29dd7bc",
   "metadata": {},
   "outputs": [],
   "source": []
  },
  {
   "cell_type": "code",
   "execution_count": null,
   "id": "a4c19d77-3b9d-429f-88f2-7db07ab65fd8",
   "metadata": {},
   "outputs": [],
   "source": []
  }
 ],
 "metadata": {
  "kernelspec": {
   "display_name": "Python 3 (ipykernel)",
   "language": "python",
   "name": "python3"
  },
  "language_info": {
   "codemirror_mode": {
    "name": "ipython",
    "version": 3
   },
   "file_extension": ".py",
   "mimetype": "text/x-python",
   "name": "python",
   "nbconvert_exporter": "python",
   "pygments_lexer": "ipython3",
   "version": "3.11.6"
  }
 },
 "nbformat": 4,
 "nbformat_minor": 5
}
