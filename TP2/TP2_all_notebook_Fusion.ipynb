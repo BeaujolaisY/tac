{
 "cells": [
  {
   "cell_type": "markdown",
   "id": "4d7259a3-bc00-4392-825d-d83ce1a2c302",
   "metadata": {},
   "source": [
    "# Notebook s1_keywords pour extraire uniquement les mots-clés relatifs à 1940 (Extraction des mots-clés)"
   ]
  },
  {
   "cell_type": "code",
   "execution_count": 2,
   "id": "d57ed221-161b-4acb-94c4-d01af3df2082",
   "metadata": {},
   "outputs": [],
   "source": [
    "########### importation des library #####################\n",
    "import os\n",
    "import yake"
   ]
  },
  {
   "cell_type": "code",
   "execution_count": null,
   "id": "b61ece05-b9ad-4325-b9c3-6499f77861ed",
   "metadata": {},
   "outputs": [],
   "source": [
    "# Instantier l'extracteur de mots clés\n",
    "kw_extractor = yake.KeywordExtractor(lan=\"fr\", top=50) #la langue c'est du francais\n",
    "kw_extractor"
   ]
  },
  {
   "cell_type": "code",
   "execution_count": 4,
   "id": "5311ed58-51af-4546-b16d-5b915ab50af3",
   "metadata": {},
   "outputs": [],
   "source": [
    "# Lister les Fichiers\n",
    "data_path = \"../data/txt/\"\n",
    "files = os.listdir(data_path)"
   ]
  },
  {
   "cell_type": "code",
   "execution_count": null,
   "id": "3cabce33-7f0d-4bfc-b1e7-c1b37f58a0b7",
   "metadata": {},
   "outputs": [],
   "source": [
    "# Imprimer le nombre de fichiers identifiés\n",
    "len(files)"
   ]
  },
  {
   "cell_type": "code",
   "execution_count": null,
   "id": "e425deff-1da6-43ce-a7cc-a6b635bea033",
   "metadata": {},
   "outputs": [],
   "source": [
    "# Les 2 premiers fichiers\n",
    "files[:2]"
   ]
  },
  {
   "cell_type": "code",
   "execution_count": null,
   "id": "16edd7e1-c926-4ab6-9efa-820d6cf1d55c",
   "metadata": {},
   "outputs": [],
   "source": [
    "####### selection de tous les  fichiers de 1940 et affichage\n",
    "this_files = [F for F in files if '1940' in F]\n",
    "this_files"
   ]
  },
  {
   "cell_type": "code",
   "execution_count": null,
   "id": "5000dd1b-1bda-43d6-a347-c661c06d7e20",
   "metadata": {},
   "outputs": [],
   "source": [
    "# Récupération du  texte dans les fichiers (Cette boucle va lire chaque fichier dans this_files, ajouter son contenu à la variable all_texts, et enfin, le print à la fin affiche les 500 premiers caractères du contenu combiné.)\n",
    "\n",
    "all_texts = \"\"\n",
    "\n",
    "for file_name in this_files:\n",
    "    file_path = os.path.join(data_path, file_name)\n",
    "    with open(file_path, 'r', encoding='utf-8') as F:\n",
    "        all_texts += F.read()\n",
    "\n",
    "print(all_texts[:500])\n"
   ]
  },
  {
   "cell_type": "code",
   "execution_count": null,
   "id": "5edd5e9e-b835-4997-bdc5-8e28eaabbc7d",
   "metadata": {},
   "outputs": [],
   "source": [
    "# Extraction des mots clés de notre fichiers de fusion all_texts\n",
    "keywords = kw_extractor.extract_keywords(all_texts)\n",
    "keywords"
   ]
  },
  {
   "cell_type": "code",
   "execution_count": null,
   "id": "26f556b2-4eb8-4b20-b01e-ef7ed9c971d3",
   "metadata": {},
   "outputs": [],
   "source": [
    "# Ne garder que les tigrammes\n",
    "kept = []\n",
    "for kw, score in keywords:\n",
    "    words = kw.split()\n",
    "    if len(words) == 3:\n",
    "        kept.append(kw)\n",
    "kept"
   ]
  },
  {
   "cell_type": "markdown",
   "id": "0941e4ac-3db0-4627-ad48-8cd2e22a716d",
   "metadata": {},
   "source": []
  },
  {
   "cell_type": "code",
   "execution_count": null,
   "id": "cc2762ae-5966-4bc8-9c4d-e331a7c85706",
   "metadata": {},
   "outputs": [],
   "source": [
    "# Liste des mots-clés composés de deux mots pour chaque fichier trié de this_files et affichage des sources dans lesquels ces mots-clés sont mentionnés.\n",
    "for F in sorted(this_files):\n",
    "    all_texts = open(os.path.join(data_path, F), 'r', encoding=\"utf-8\").read()\n",
    "    keywords = kw_extractor.extract_keywords(all_texts)\n",
    "    kept = []\n",
    "    for kw, score in keywords:\n",
    "        words = kw.split()\n",
    "        if len(words) == 2:\n",
    "            kept.append(kw)\n",
    "    print(f\"{F} mentions these keywords: {', '.join(kept)}...\")"
   ]
  },
  {
   "cell_type": "code",
   "execution_count": null,
   "id": "b6b22dc5-5778-4882-9b4b-2e39554dae95",
   "metadata": {},
   "outputs": [],
   "source": []
  },
  {
   "cell_type": "markdown",
   "id": "b89aa632-ed9c-42bd-820f-1f6ded96c171",
   "metadata": {},
   "source": [
    "# Notebook Question 2 wordcloud.ipynb"
   ]
  },
  {
   "cell_type": "markdown",
   "id": "be276cdf-65aa-4b37-9cfb-0d82d6ef5cb3",
   "metadata": {},
   "source": [
    "## Représentation Nuages de mots (question de recherche: Aperçu des thèmes les plus courants discutés dans les journaux Belge en 1940)"
   ]
  },
  {
   "cell_type": "code",
   "execution_count": null,
   "id": "95cd56b2-68fa-4674-9d8b-61fadc70510f",
   "metadata": {},
   "outputs": [],
   "source": [
    "#Importation des librairies nécessaires\n",
    "from collections import Counter\n",
    "from wordcloud import WordCloud\n",
    "import os\n",
    "import nltk\n",
    "nltk.download('stopwords')\n",
    "from nltk.corpus import stopwords\n",
    "from IPython.display import Image"
   ]
  },
  {
   "cell_type": "code",
   "execution_count": 13,
   "id": "918850c1-1117-437e-be9b-94f74b88e4df",
   "metadata": {},
   "outputs": [],
   "source": [
    "# Stopwords \n",
    "sw = stopwords.words(\"french\")\n",
    "sw += [\"les\", \"plus\", \"cette\", \"fait\", \"faire\", \"être\", \"deux\", \"comme\", \"dont\", \"tout\", \"jeune\", \"nouveau\",\"partie\",\"heures\",\"très\",\n",
    "       \"ils\", \"bien\", \"sans\", \"peut\", \"tous\", \"après\", \"ainsi\", \"donc\", \"cet\", \"sous\",\"faire\", \"être\",\"voir\",\"jours\",\"rien\",\"beau\",\"pet\",\"etc\",\"minutes\",\"devant\",\"jard\",\"suite\",\"chez\",\"divers\", \"avoir\", \"dire\", \"voit\",\"vie\",\"pierre\",\"cas\",\"alors\",\"soir\",\"tant\",\"mme\",\"pied\",\"bas\",\"près\",\"vis\",\"chaque\", \"dès\",\n",
    "       \"celle\", \"entre\", \"encore\", \"toutes\", \"pendant\", \"moins\", \"dire\", \"cela\", \"non\",\"jean\", \"paul\", \"dame\", \"monsieur\",\n",
    "       \"faut\", \"trois\", \"aussi\", \"dit\", \"avoir\", \"doit\", \"contre\", \"depuis\", \"autres\",\"bon\", \"grand\", \"petit\", \"bien\", \"gros\",\n",
    "       \"van\", \"het\", \"autre\", \"jusqu\", \"ville\", \"rossel\", \"dem\",\"des\",\"bien\",\"un\",\"une\",\"à\",\"dans\",\"vers\", \"point\", \"lieu\",\"Rue\",\"leurs\",\"quelques\",\"elles\",\"toute\",\"déjà\",\"puis\",\"celui\",\"quand\",\"avant\",\"elles\"]\n",
    "sw = set(sw)\n",
    "\n",
    "### enrichissement de la liste de nos stopword sw\n",
    "journal_stopwords = [\"titre\", \"paragraphe\", \"section\", \"source\", \"référence\", \"aujourd'hui\", \n",
    "                         \"hier\", \"demain\", \"actuellement\", \"récemment\", \"précédemment\", \"information\", \n",
    "                         \"rapport\", \"article\", \"annonce\", \"déclaration\", \"commentaire\", \"peut-être\", \n",
    "                         \"probablement\", \"possible\", \"éventuellement\", \"journaliste\", \"rédacteur\", \n",
    "                         \"correspondant\", \"spécialiste\", \"expert\", \"publié\", \"mis_à_jour\", \"édition\", \"nuit\",\n",
    "                         \"version\"]\n",
    "\n",
    "### mot vide relatif a la négation\n",
    "negation_words = [\"ni\", \"aucun\", \"néanmoins\", \"quoique\", \"bien_que\"]\n",
    "\n",
    "#mot vide relatif aux temps \n",
    "temps_words = [\"toujours\", \"jamais\", \"souvent\", \"rarement\", \"parfois\"]\n",
    "\n",
    "### mot vide relatif aux quantité \n",
    "quantity_words = [\"beaucoup\", \"plusieurs\", \"première\", \"dernière\", \"autant\"]\n",
    "\n",
    "#### mot vide relatif au opignons et adverbe \n",
    "additional_words = [\"vraiment\", \"plutôt\", \"assez\", \"trop\", \"peu\",\"même\", \"notamment\", \"parce\", \"car\", \"puisque\"]\n",
    "sw.update(additional_words)\n",
    "\n",
    "\n",
    "sw.update(quantity_words)\n",
    "sw.update(temps_words)\n",
    "sw.update(negation_words)\n",
    "sw.update(journal_stopwords)"
   ]
  },
  {
   "cell_type": "code",
   "execution_count": 14,
   "id": "2eb56247-9a39-4761-8c01-26848f739a92",
   "metadata": {},
   "outputs": [],
   "source": [
    "#######################\n",
    "# selection d'une année\n",
    "year = 1940"
   ]
  },
  {
   "cell_type": "code",
   "execution_count": null,
   "id": "1cee7050-0b0b-4023-a02f-a2d07d33e437",
   "metadata": {},
   "outputs": [],
   "source": [
    "# Lister les fichiers de cette année\n",
    "data_path = '../data'\n",
    "txt_path = '../data/txt'\n",
    "txts = [f for f in os.listdir(txt_path) if os.path.isfile(os.path.join(txt_path, f)) and str(year) in f]\n",
    "len(txts)"
   ]
  },
  {
   "cell_type": "code",
   "execution_count": null,
   "id": "0ece39c5-a628-4e79-9baf-7d138499dc26",
   "metadata": {},
   "outputs": [],
   "source": [
    "# Stocker le contenu de ces fichiers dans une liste\n",
    "content_list = []\n",
    "for txt in txts:\n",
    "    with open(os.path.join(txt_path, txt), 'r', encoding='utf-8') as f:\n",
    "        content_list.append(f.read())\n",
    "        \n",
    "# Compter le nombre d'éléments (=fichiers) dans la liste\n",
    "len(content_list)"
   ]
  },
  {
   "cell_type": "code",
   "execution_count": null,
   "id": "bf6c1b66-0eac-4ef2-8430-269a530ef590",
   "metadata": {},
   "outputs": [],
   "source": [
    "# Imprimer les 200 premiers caractères du contenu du premier fichier\n",
    "content_list[0][0:200]"
   ]
  },
  {
   "cell_type": "code",
   "execution_count": 18,
   "id": "ab0a2b7a-a107-4f43-a1f6-467439cd87f0",
   "metadata": {},
   "outputs": [],
   "source": [
    "# Ecrire tout le contenu dans un fichier temporaire\n",
    "temp_path = '../data/tmp'\n",
    "if not os.path.exists(temp_path):\n",
    "    os.mkdir(temp_path)\n",
    "with open(os.path.join(temp_path, f'{year}.txt'), 'w', encoding='utf-8') as f:\n",
    "    f.write(' '.join(content_list))"
   ]
  },
  {
   "cell_type": "code",
   "execution_count": null,
   "id": "e6e887c9-6188-4b47-b4f4-ada2d0aa7d6a",
   "metadata": {},
   "outputs": [],
   "source": [
    "# Imprimer le contenu du fichier et constater les \"déchets\"\n",
    "with open(os.path.join(temp_path, f'{year}.txt'), 'r', encoding='utf-8') as f:\n",
    "    before = f.read()\n",
    "\n",
    "before[:500]"
   ]
  },
  {
   "cell_type": "code",
   "execution_count": 20,
   "id": "dcdb91d3-5a82-4620-b150-aa0163adcc0f",
   "metadata": {},
   "outputs": [],
   "source": [
    "## Nettoyage du fichier à l'aide d'une fonction de nettoyage\n",
    "\n",
    "def clean_text(year, folder=None):\n",
    "    if folder is None:\n",
    "        input_path = f\"{year}.txt\"\n",
    "        output_path = f\"{year}_clean.txt\"\n",
    "    else:\n",
    "        input_path = f\"{folder}/{year}.txt\"\n",
    "        output_path = f\"{folder}/{year}_clean.txt\"\n",
    "    output = open(output_path, \"w\", encoding='utf-8')\n",
    "    with open(input_path, 'r', encoding='utf-8') as f:\n",
    "        text = f.read()\n",
    "        words = nltk.wordpunct_tokenize(text)\n",
    "        kept = [w.upper() for w in words if len(w) > 2 and w.isalpha() and w.lower() not in sw]\n",
    "        kept_string = \" \".join(kept)\n",
    "        output.write(kept_string)\n",
    "    return f'Output has been written in {output_path}!'"
   ]
  },
  {
   "cell_type": "code",
   "execution_count": null,
   "id": "03be5e78-a27a-402a-ba7b-aaab415006d6",
   "metadata": {},
   "outputs": [],
   "source": [
    "### Appliquer la fonction sur le fichier complet de l'année\n",
    "\n",
    "clean_text(year, folder=temp_path)"
   ]
  },
  {
   "cell_type": "code",
   "execution_count": null,
   "id": "88b18c9f-b523-491e-bba2-55f9bfdd3d15",
   "metadata": {},
   "outputs": [],
   "source": [
    "# Vérification du résultat\n",
    "with open(os.path.join(temp_path, f'{year}_clean.txt'), 'r', encoding='utf-8') as f:\n",
    "    after = f.read()\n",
    "\n",
    "after[:500]"
   ]
  },
  {
   "cell_type": "code",
   "execution_count": null,
   "id": "c50308b6-d3e5-434f-b3cc-ba48cd339869",
   "metadata": {},
   "outputs": [],
   "source": [
    "### Affichage des termes les plus fréquents\n",
    "frequencies = Counter(after.split()) #counter donne un compteur par mots afin d'evaluer le nombre de fois kil apparait \n",
    "print(frequencies.most_common(10)) "
   ]
  },
  {
   "cell_type": "code",
   "execution_count": null,
   "id": "d97e6f8d-d8fd-4aff-b995-94f0a0e0199c",
   "metadata": {},
   "outputs": [],
   "source": [
    "### Créer, stocker et afficher le nuage de mots (pensé a ce que l'on a fait et ce quon a mis en oeuvre afin que le nuage de mot soi le plus precis et beau possible)\n",
    "\n",
    "cloud = WordCloud(width=2000, height=1000, background_color='white').generate_from_frequencies(frequencies)\n",
    "cloud.to_file(os.path.join(temp_path, f\"{year}.png\"))\n",
    "\n",
    "Image(filename=os.path.join(temp_path, f\"{year}.png\"))"
   ]
  },
  {
   "cell_type": "code",
   "execution_count": null,
   "id": "e4a9f478-3d57-46f8-a28c-76931fabfb60",
   "metadata": {},
   "outputs": [],
   "source": []
  },
  {
   "cell_type": "markdown",
   "id": "92b0e411-cc09-49d1-9b01-5778319cd4cd",
   "metadata": {},
   "source": [
    "# Question:3 Extraction d'entités nommées principales (personnes, organisations et lieux) pertinentes pour 1940"
   ]
  },
  {
   "cell_type": "code",
   "execution_count": null,
   "id": "b598d05b-4f3d-46f8-b7f8-d76a1d70b9bd",
   "metadata": {},
   "outputs": [],
   "source": []
  },
  {
   "cell_type": "code",
   "execution_count": 25,
   "id": "f82bf6d2-c1bc-46ee-9433-a1c9a695476c",
   "metadata": {},
   "outputs": [],
   "source": [
    "### importation des librairies\n",
    "from collections import defaultdict\n",
    "import sys\n",
    "import spacy\n",
    "from spacy.lang.fr.examples import sentences"
   ]
  },
  {
   "cell_type": "code",
   "execution_count": 26,
   "id": "c61fb5ba-e225-49d1-8f43-e7c603135350",
   "metadata": {},
   "outputs": [],
   "source": [
    "nlp = spacy.load('fr_core_news_lg')"
   ]
  },
  {
   "cell_type": "code",
   "execution_count": null,
   "id": "f209142c-b86d-4402-87e0-17ded41d2f52",
   "metadata": {},
   "outputs": [],
   "source": [
    "# Imprimer le corpus de Spacy\n",
    "sentences"
   ]
  },
  {
   "cell_type": "code",
   "execution_count": null,
   "id": "59a1ca07-263a-4e15-8ff2-dea62684502a",
   "metadata": {},
   "outputs": [],
   "source": [
    "# Isoler la première phrase\n",
    "sent = sentences[0]\n",
    "sent"
   ]
  },
  {
   "cell_type": "code",
   "execution_count": 29,
   "id": "19325576-d017-442e-be46-a9afdd83e8d1",
   "metadata": {},
   "outputs": [],
   "source": [
    "# Traiter la phrase avec Spacy\n",
    "doc = nlp(sent)"
   ]
  },
  {
   "cell_type": "code",
   "execution_count": null,
   "id": "88c3d77d-c9a3-41aa-bbac-8013329a77eb",
   "metadata": {},
   "outputs": [],
   "source": [
    "type(doc) ###sur l'objet doc on imprime l'attribut text (doc document enrichi par spacy"
   ]
  },
  {
   "cell_type": "code",
   "execution_count": null,
   "id": "e6870955-53a5-4460-b1da-c3c6326557f8",
   "metadata": {},
   "outputs": [],
   "source": [
    "doc.text"
   ]
  },
  {
   "cell_type": "code",
   "execution_count": null,
   "id": "fe9d1462-efeb-493e-94ff-8090076e82f5",
   "metadata": {},
   "outputs": [],
   "source": [
    "doc.to_json() ### il analyse le mot en commancan par l'indice 0 ( Appel quest que ces: tag nom propre , etc.."
   ]
  },
  {
   "cell_type": "code",
   "execution_count": null,
   "id": "48bbb92b-912e-4e37-8c14-1f86f937a3ce",
   "metadata": {},
   "outputs": [],
   "source": [
    "# Appliquer le test sur toutes les phrases\n",
    "for sent in sentences: # on itere atraver la liste des phrase \n",
    "    doc = nlp(sent) # on appilique sur chaquune de ces phrase les modele pour extraire les entité\n",
    "    entities = []\n",
    "    for ent in doc.ents:\n",
    "        entities.append(f\"{ent.text} ({ent.label_})\")\n",
    "    if entities:\n",
    "        print(f\"'{doc.text}' contient les entités suivantes : {', '.join(entities)}\") \n",
    "    else:\n",
    "        print(f\"'{doc.text}' ne contient aucune entité\")"
   ]
  },
  {
   "cell_type": "code",
   "execution_count": 34,
   "id": "7ce6be4c-d645-4d82-990a-d0b902a43a05",
   "metadata": {},
   "outputs": [],
   "source": [
    "## Appliquer la reconnaissance d'entités nommées sur notre corpus de 1940 nomée 1940.txt ds le dossier tmp\n",
    "# Charger le texte\n",
    "n=100000\n",
    "text = open(\"../data/tmp/1940.txt\", encoding='utf-8').read()[:n]"
   ]
  },
  {
   "cell_type": "code",
   "execution_count": null,
   "id": "909969cb-bc92-44b3-9805-8c85a097a91c",
   "metadata": {},
   "outputs": [],
   "source": [
    "%%time\n",
    "# Traiter le texte\n",
    "\n",
    "doc = nlp(text)"
   ]
  },
  {
   "cell_type": "code",
   "execution_count": null,
   "id": "4e20d213-4184-4bb6-8a9c-84d05c5d0b1d",
   "metadata": {},
   "outputs": [],
   "source": [
    "### comtapbilisation et affichage des entités\n",
    "entities = defaultdict(int)\n",
    "\n",
    "for ent in doc.ents:\n",
    "    if ent.label_ in [\"PER\", \"ORG\", \"LOC\"] and len(ent.text.strip()) > 3:\n",
    "        entities[(ent.text.strip(), ent.label_)] += 1  # Comptabiliser chaque entité avec son label\n",
    "\n",
    "# Trier les entités par fréquence\n",
    "sorted_entities = sorted(entities.items(), key=lambda kv: kv[1], reverse=True)\n",
    "\n",
    "# Imprimer les 10 premières entités et leurs fréquences\n",
    "for (entity, label), freq in sorted_entities[:10]:\n",
    "    print(f\"{entity} [{label}] apparait {freq} fois dans le corpus\")\n"
   ]
  },
  {
   "cell_type": "code",
   "execution_count": null,
   "id": "9c194897-551d-47a2-bb79-5c88a90852fa",
   "metadata": {},
   "outputs": [],
   "source": []
  },
  {
   "cell_type": "markdown",
   "id": "3e8aef70-770d-4880-8623-173849d8a066",
   "metadata": {},
   "source": [
    "# Question 4 : extraction de 10 phrases aléatoires dans les articles de 1940 et analysez-les à l’aide du notebook s4_sentiment.ipynb"
   ]
  },
  {
   "cell_type": "code",
   "execution_count": null,
   "id": "30584bb7-4fde-4d82-a6eb-4e40b4a8ef41",
   "metadata": {},
   "outputs": [],
   "source": []
  },
  {
   "cell_type": "code",
   "execution_count": 37,
   "id": "0684b9f3-b3f8-4cc7-813b-b2bf62e84045",
   "metadata": {},
   "outputs": [],
   "source": [
    "##import des lib\n",
    "import sys\n",
    "from textblob import Blobber\n",
    "from textblob_fr import PatternTagger, PatternAnalyzer"
   ]
  },
  {
   "cell_type": "code",
   "execution_count": 38,
   "id": "ddda1e4d-687b-4eb2-9232-6cca161065e3",
   "metadata": {},
   "outputs": [],
   "source": [
    "####### Création d'une fonction `get_sentiment` qui évaluera le sentiment et la subjectivité de nos phrases\n",
    "\n",
    "tb = Blobber(pos_tagger=PatternTagger(), analyzer=PatternAnalyzer())\n",
    "\n",
    "def get_sentiment(input_text):\n",
    "    blob = tb(input_text)\n",
    "    polarity, subjectivity = blob.sentiment\n",
    "    polarity_perc = f\"{100*abs(polarity):.0f}\"\n",
    "    subjectivity_perc = f\"{100*subjectivity:.0f}\"\n",
    "    if polarity > 0:\n",
    "        polarity_str = f\"{polarity_perc}% positive\"\n",
    "    elif polarity < 0:\n",
    "        polarity_str = f\"{polarity_perc}% negative\"\n",
    "    else:\n",
    "        polarity_str = \"neutral\"\n",
    "    if subjectivity > 0:\n",
    "        subjectivity_str = f\"{subjectivity}% subjective\"\n",
    "    else:\n",
    "        subjectivity_str = \"perfectly objective\"\n",
    "    print(f\"This text is {polarity_str} and {subjectivity_str}.\")"
   ]
  },
  {
   "cell_type": "markdown",
   "id": "fd744e99-59e4-4566-a803-cd28aa599e8d",
   "metadata": {},
   "source": [
    "### Sélection et extraction aléatoire des phrases de notre corpus 1940.txt"
   ]
  },
  {
   "cell_type": "code",
   "execution_count": null,
   "id": "02d2d6f6-de6a-4fcd-a39f-fb492d7918c6",
   "metadata": {},
   "outputs": [],
   "source": [
    "####################### Sélection et extraction aléatoire des phrases de notre corpus ####################\n",
    "import os\n",
    "import random\n",
    "\n",
    "\n",
    "def select_random_sentences(file_path, num_sentences=10):\n",
    "    with open(file_path, 'r', encoding='latin-1') as file:\n",
    "        text = file.read()\n",
    "\n",
    "    # Diviser le texte en phrases\n",
    "    sentences = text.split('.')\n",
    "    \n",
    "    # verifie/ s'assurer qu'il y a assez de phrases\n",
    "    if len(sentences) < num_sentences:\n",
    "        return \"Il n'y a pas assez de phrases dans le fichier.\"\n",
    "    \n",
    "    # Sélectionner aléatoirement des phrases (10)\n",
    "    selected_sentences = random.sample(sentences, num_sentences)\n",
    "    \n",
    "    return selected_sentences\n",
    "\n",
    "# chemin d'accès au fichier\n",
    "random_sentences = select_random_sentences('../data/tmp/1940.txt')\n",
    "\n",
    "for i, sentence in enumerate(random_sentences):\n",
    "    print(f\"Sentence {i+1}: {sentence.strip()}\")\n",
    "\n"
   ]
  },
  {
   "cell_type": "markdown",
   "id": "f9dc7971-7d6d-4674-88b1-9d1e446d8d4f",
   "metadata": {},
   "source": [
    "#### Résultat sélectionné après avoir exécuté plusieurs fois la cellule ci-haut pour choisir des phrase avec sens:\n",
    "#### Phrases sélectionner pour analyse:  \n",
    "\n",
    "##### 1. Le docteur Laurent de Dampremy nous prie de rectifier : il donne des renseignements sur le 7e chasseurs à pied, 1er bataillon et non sur les 2e et 3e bataillons.\n",
    "##### 2. Un blondinet de cinq ans avait rendu visite au Royaume des Jouets, en compagnie de sa tante.\n",
    "##### 3. Au Palais des Sports d'Anvers, Schulte a battu Clautier en match poursuite.\n",
    "##### 4. Neckerman était aussi un pauvre homme à la recherche de l'oubli des tracas d'une journée de laborieux travail.\n",
    "##### 5. En Italie, le problème juif est resté latent pendant des années, car il n'y avait pas atteint cette importance et cette urgence qui le caractérisaient auprès d'autres nations européennes\n",
    "##### 6. La neutralité ainsi conçue devient un élément d'équilibre et de barrage à un endroit crucial de l'Europe.\n",
    "##### 7. L'ennemi a continué ses attaques aériennes sur les villes de la Ligurie et de la Sardaigne.\n",
    "##### 8.Des cannibales armés de lances et de boucliers accouraient d'un village proche dont on apercevait les paillotes.\n",
    "##### 9. Tous les soirs, la place de la station est noire de monde ; femmes, enfants et parents attendent le retour des absents\n",
    "##### 10. Du point de vue sportif, le résultat de la rencontre Liersche-Beerschot est, sans conteste, le plus intéressant."
   ]
  },
  {
   "cell_type": "markdown",
   "id": "5418aef9-ce05-4c7f-8688-5ee572de90d7",
   "metadata": {},
   "source": []
  },
  {
   "cell_type": "markdown",
   "id": "f0652f52-b5a1-4c08-9785-81eab577af15",
   "metadata": {},
   "source": [
    "#### Analyser le sentiment d'une phrase"
   ]
  },
  {
   "cell_type": "code",
   "execution_count": null,
   "id": "25c48052-221a-4c04-8248-60c05571af17",
   "metadata": {},
   "outputs": [],
   "source": [
    "# 1\n",
    "get_sentiment(\"Le docteur Laurent de Dampremy nous prie de rectifier : il donne des renseignements sur le 7e chasseurs à pied, 1er bataillon et non sur les 2e et 3e bataillons.\")"
   ]
  },
  {
   "cell_type": "code",
   "execution_count": null,
   "id": "a5cdcd4f-6e1e-44bb-8437-90ad14ce8135",
   "metadata": {},
   "outputs": [],
   "source": [
    "# 2\n",
    "get_sentiment(\"Un blondinet de cinq ans avait rendu visite au Royaume des Jouets, en compagnie de sa tnte.\")"
   ]
  },
  {
   "cell_type": "code",
   "execution_count": null,
   "id": "c8fb1513-1d21-450b-86fb-9a3e499ca0cd",
   "metadata": {},
   "outputs": [],
   "source": [
    "# 3\n",
    "get_sentiment(\"Au Palais des Sports d'Anvers, Schulte a battu Clautier en match poursuite.\")"
   ]
  },
  {
   "cell_type": "code",
   "execution_count": null,
   "id": "efc0dc3b-28d0-496d-bb2f-929e04bb1e46",
   "metadata": {},
   "outputs": [],
   "source": [
    "# 4\n",
    "get_sentiment(\"Neckerman était aussi un pauvre homme à la recherche de l'oubli des tracas d'une journée de laborieux travail.\")"
   ]
  },
  {
   "cell_type": "code",
   "execution_count": null,
   "id": "e16da4e2-c6b3-49ec-b45c-fb19b665602b",
   "metadata": {},
   "outputs": [],
   "source": [
    "#5\n",
    "get_sentiment(\"En Italie, le problème juif est resté latent pendant des années, car il n'y avait pas atteint cette importance et cette urgence qui le caractérisaient auprès d'autres nations européennes\")"
   ]
  },
  {
   "cell_type": "code",
   "execution_count": null,
   "id": "de870e10-48d1-47f9-8bb3-cd8ac4706e05",
   "metadata": {},
   "outputs": [],
   "source": [
    "# 6\n",
    "get_sentiment(\"La neutralité ainsi conçue devient un élément d'équilibre et de barrage à un endroit crucial de l'Europe.\")"
   ]
  },
  {
   "cell_type": "code",
   "execution_count": null,
   "id": "1a47820d-56d8-447e-83b4-a0cda95ce5a2",
   "metadata": {},
   "outputs": [],
   "source": [
    "# 7\n",
    "get_sentiment(\"L'ennemi a continué ses attaques aériennes sur les villes de la Ligurie et de la Sardaigne.\")"
   ]
  },
  {
   "cell_type": "code",
   "execution_count": null,
   "id": "e2cce2e8-82d8-4e49-aa56-f30187823145",
   "metadata": {},
   "outputs": [],
   "source": [
    "# 8\n",
    "get_sentiment(\"Des cannibales armés de lances et de boucliers accouraient d'un village proche dont on apercevait les paillotes.\")"
   ]
  },
  {
   "cell_type": "code",
   "execution_count": null,
   "id": "6b1d89c0-f20b-4b59-b23f-4937af04544b",
   "metadata": {},
   "outputs": [],
   "source": [
    "# 9\n",
    "get_sentiment(\"Tous les soirs, la place de la station est noire de monde ; femmes, enfants et parents attendent le retour des absents\")"
   ]
  },
  {
   "cell_type": "code",
   "execution_count": null,
   "id": "a34be440-34df-4c15-8914-1c5663a8dcc7",
   "metadata": {},
   "outputs": [],
   "source": [
    "# 10\n",
    "get_sentiment(\"Du point de vue sportif, le résultat de la rencontre Liersche-Beerschot est, sans conteste, le plus intéressant\")"
   ]
  },
  {
   "cell_type": "code",
   "execution_count": null,
   "id": "e10c7ed3-6c15-4ee5-9dc0-a83a3e8ecd72",
   "metadata": {},
   "outputs": [],
   "source": []
  }
 ],
 "metadata": {
  "kernelspec": {
   "display_name": "Python 3 (ipykernel)",
   "language": "python",
   "name": "python3"
  },
  "language_info": {
   "codemirror_mode": {
    "name": "ipython",
    "version": 3
   },
   "file_extension": ".py",
   "mimetype": "text/x-python",
   "name": "python",
   "nbconvert_exporter": "python",
   "pygments_lexer": "ipython3",
   "version": "3.11.6"
  }
 },
 "nbformat": 4,
 "nbformat_minor": 5
}
