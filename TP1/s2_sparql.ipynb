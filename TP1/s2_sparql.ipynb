{
 "cells": [
  {
   "cell_type": "markdown",
   "metadata": {},
   "source": [
    "# Bases de connaissance : interroger Wikidata à l'aide de requêtes SPARQL"
   ]
  },
  {
   "cell_type": "markdown",
   "metadata": {},
   "source": [
    "## Imports"
   ]
  },
  {
   "cell_type": "code",
   "execution_count": 3,
   "metadata": {},
   "outputs": [],
   "source": [
    "from datetime import datetime as dt\n",
    "from SPARQLWrapper import SPARQLWrapper, JSON"
   ]
  },
  {
   "cell_type": "markdown",
   "metadata": {},
   "source": [
    "## Obtenir la liste des politiciens belges"
   ]
  },
  {
   "cell_type": "code",
   "execution_count": 49,
   "metadata": {},
   "outputs": [
    {
     "name": "stdout",
     "output_type": "stream",
     "text": [
      "\n",
      "1538 Belgian Journalist found\n",
      "\n",
      "[{'journalist': {'type': 'uri', 'value': 'http://www.wikidata.org/entity/Q110110934'}, 'journalistLabel': {'xml:lang': 'en', 'type': 'literal', 'value': 'Alphonse Elleboudt'}, 'family_nameLabel': {'xml:lang': 'en', 'type': 'literal', 'value': 'Elleboudt'}, 'given_nameLabel': {'xml:lang': 'fr', 'type': 'literal', 'value': 'Alphonse'}, 'date_of_birth': {'datatype': 'http://www.w3.org/2001/XMLSchema#dateTime', 'type': 'literal', 'value': '1864-02-06T00:00:00Z'}, 'date_of_death': {'datatype': 'http://www.w3.org/2001/XMLSchema#dateTime', 'type': 'literal', 'value': '1948-06-08T00:00:00Z'}, 'place_of_birthLabel': {'xml:lang': 'fr', 'type': 'literal', 'value': 'Ostende'}, 'place_of_deathLabel': {'xml:lang': 'fr', 'type': 'literal', 'value': 'Ostende'}, 'genderLabel': {'xml:lang': 'fr', 'type': 'literal', 'value': 'masculin'}}, {'journalist': {'type': 'uri', 'value': 'http://www.wikidata.org/entity/Q9154659'}, 'journalistLabel': {'xml:lang': 'en', 'type': 'literal', 'value': 'Anicet Kashamura'}, 'given_nameLabel': {'xml:lang': 'fr', 'type': 'literal', 'value': 'Anicet'}, 'date_of_birth': {'datatype': 'http://www.w3.org/2001/XMLSchema#dateTime', 'type': 'literal', 'value': '1928-12-17T00:00:00Z'}, 'date_of_death': {'datatype': 'http://www.w3.org/2001/XMLSchema#dateTime', 'type': 'literal', 'value': '2004-08-18T00:00:00Z'}, 'genderLabel': {'xml:lang': 'fr', 'type': 'literal', 'value': 'masculin'}, 'isni': {'type': 'literal', 'value': '0000 0003 9827 5784'}, 'NTA': {'type': 'literal', 'value': '068733526'}}, {'journalist': {'type': 'uri', 'value': 'http://www.wikidata.org/entity/Q113796386'}, 'journalistLabel': {'xml:lang': 'en', 'type': 'literal', 'value': 'Anne Suchalla'}, 'date_of_birth': {'datatype': 'http://www.w3.org/2001/XMLSchema#dateTime', 'type': 'literal', 'value': '1957-01-01T00:00:00Z'}}, {'journalist': {'type': 'uri', 'value': 'http://www.wikidata.org/entity/Q13439304'}, 'journalistLabel': {'xml:lang': 'en', 'type': 'literal', 'value': 'Beatrijs \"Bieke\" Crucke'}, 'given_nameLabel': {'xml:lang': 'fr', 'type': 'literal', 'value': 'Beatrijs'}, 'genderLabel': {'xml:lang': 'fr', 'type': 'literal', 'value': 'féminin'}}, {'journalist': {'type': 'uri', 'value': 'http://www.wikidata.org/entity/Q115210720'}, 'journalistLabel': {'xml:lang': 'en', 'type': 'literal', 'value': 'Bruno Raes (producer)'}, 'family_nameLabel': {'xml:lang': 'fr', 'type': 'literal', 'value': 'Raes'}, 'given_nameLabel': {'xml:lang': 'fr', 'type': 'literal', 'value': 'Bruno'}, 'date_of_birth': {'datatype': 'http://www.w3.org/2001/XMLSchema#dateTime', 'type': 'literal', 'value': '1947-01-01T00:00:00Z'}, 'place_of_birthLabel': {'xml:lang': 'fr', 'type': 'literal', 'value': 'Anvers'}, 'genderLabel': {'xml:lang': 'fr', 'type': 'literal', 'value': 'masculin'}}, {'journalist': {'type': 'uri', 'value': 'http://www.wikidata.org/entity/Q61741129'}, 'journalistLabel': {'xml:lang': 'en', 'type': 'literal', 'value': 'Gabriel Makoso'}, 'given_nameLabel': {'xml:lang': 'fr', 'type': 'literal', 'value': 'Gabriel'}, 'genderLabel': {'xml:lang': 'fr', 'type': 'literal', 'value': 'masculin'}}, {'journalist': {'type': 'uri', 'value': 'http://www.wikidata.org/entity/Q119954247'}, 'journalistLabel': {'xml:lang': 'en', 'type': 'literal', 'value': 'H.E Alrlette SOudan Nonault'}, 'genderLabel': {'xml:lang': 'fr', 'type': 'literal', 'value': 'féminin'}}, {'journalist': {'type': 'uri', 'value': 'http://www.wikidata.org/entity/Q111906795'}, 'journalistLabel': {'xml:lang': 'en', 'type': 'literal', 'value': 'Jacques Parisse'}, 'given_nameLabel': {'xml:lang': 'fr', 'type': 'literal', 'value': 'Jacques'}, 'date_of_birth': {'datatype': 'http://www.w3.org/2001/XMLSchema#dateTime', 'type': 'literal', 'value': '1934-09-30T00:00:00Z'}, 'date_of_death': {'datatype': 'http://www.w3.org/2001/XMLSchema#dateTime', 'type': 'literal', 'value': '2011-01-19T00:00:00Z'}, 'place_of_birthLabel': {'xml:lang': 'fr', 'type': 'literal', 'value': 'Seraing'}, 'place_of_deathLabel': {'xml:lang': 'fr', 'type': 'literal', 'value': 'Liège'}, 'genderLabel': {'xml:lang': 'fr', 'type': 'literal', 'value': 'masculin'}, 'isni': {'type': 'literal', 'value': '0000 0000 5180 9839'}, 'BnF': {'type': 'literal', 'value': '119186359'}, 'native_languageLabel': {'xml:lang': 'fr', 'type': 'literal', 'value': 'français'}}, {'journalist': {'type': 'uri', 'value': 'http://www.wikidata.org/entity/Q112497727'}, 'journalistLabel': {'xml:lang': 'en', 'type': 'literal', 'value': 'Jean-Paul Marthoz'}, 'given_nameLabel': {'xml:lang': 'fr', 'type': 'literal', 'value': 'Jean-Paul'}, 'date_of_birth': {'datatype': 'http://www.w3.org/2001/XMLSchema#dateTime', 'type': 'literal', 'value': '1950-01-01T00:00:00Z'}, 'genderLabel': {'xml:lang': 'fr', 'type': 'literal', 'value': 'masculin'}, 'isni': {'type': 'literal', 'value': '0000 0001 1086 103X'}, 'BnF': {'type': 'literal', 'value': '124406923'}}, {'journalist': {'type': 'uri', 'value': 'http://www.wikidata.org/entity/Q113781597'}, 'journalistLabel': {'xml:lang': 'en', 'type': 'literal', 'value': 'Kathy Saphir-Schmid'}, 'date_of_birth': {'datatype': 'http://www.w3.org/2001/XMLSchema#dateTime', 'type': 'literal', 'value': '1944-01-01T00:00:00Z'}, 'place_of_birthLabel': {'xml:lang': 'fr', 'type': 'literal', 'value': 'Anvers'}}]\n"
     ]
    }
   ],
   "source": [
    "def execute_query(sparql, statement, retries=3, delay=5):\n",
    "    for attempt in range(retries):\n",
    "        try:\n",
    "            sparql.setQuery(statement)\n",
    "            sparql.setReturnFormat(JSON)\n",
    "            results = sparql.query().convert()\n",
    "            return results\n",
    "        except Exception as e:\n",
    "            print(f\"Error: {e}. Retrying in {delay} seconds...\")\n",
    "            time.sleep(delay)\n",
    "            delay *= 2  # Increase the delay for each retry\n",
    "\n",
    "# Retrieve results from SPARQL\n",
    "endpoint = \"https://query.wikidata.org/bigdata/namespace/wdq/sparql\"\n",
    "sparql = SPARQLWrapper(endpoint)\n",
    "\n",
    "# P27 = country of citizenship \n",
    "# Q31 = Belgium\n",
    "# P106 = Opccupation\n",
    "# Q82955 = Politician\n",
    "# P569 = date of birth\n",
    "# P570 = date of death\n",
    "statement = \"\"\"\n",
    "SELECT DISTINCT ?journalist ?journalistLabel ?countryLabel ?family_nameLabel ?given_nameLabel ?date_of_birth ?date_of_death ?place_of_birthLabel ?place_of_deathLabel ?isni ?NTA ?BnF ?genderLabel ?native_languageLabel\n",
    "WHERE {\n",
    "  ?journalist p:P106 ?statement.\n",
    "  ?statement ps:P106 wd:Q1930187.\n",
    "  OPTIONAL {?journalist wdt:P734 ?family_name.}\n",
    "  OPTIONAL {?journalist wdt:P735 ?given_name.}\n",
    "  OPTIONAL {?journalist wdt:P569 ?date_of_birth.}\n",
    "  OPTIONAL {?journalist wdt:P570 ?date_of_death.}\n",
    "  OPTIONAL {?journalist wdt:P19 ?place_of_birth.}\n",
    "  OPTIONAL {?journalist wdt:P20 ?place_of_death.}\n",
    "  OPTIONAL {?journalist wdt:P213 ?isni.}\n",
    "  OPTIONAL {?journalist wdt:P1006 ?NTA.}\n",
    "  OPTIONAL {?journalist wdt:P268 ?BnF.}\n",
    "  OPTIONAL {?journalist wdt:P21 ?gender.}\n",
    "  OPTIONAL {?journalist wdt:P103 ?native_language.}\n",
    "\n",
    "  ?journalist wdt:P27 ?nationality.\n",
    "  \n",
    "  FILTER (?nationality = wd:Q974 || ?nationality = wd:Q31) #Filtre congolaise ou belge\n",
    "  \n",
    " \n",
    "  \n",
    "  SERVICE wikibase:label { bd:serviceParam wikibase:language \"[AUTO_LANGUAGE],fr,en,nl\". }\n",
    "}\n",
    "ORDER BY ?journalistLabel\n",
    "\n",
    "\n",
    "\"\"\"\n",
    "\n",
    "sparql.setQuery(statement)\n",
    "sparql.setReturnFormat(JSON)\n",
    "results = sparql.query().convert()\n",
    "\n",
    "rows = results['results']['bindings']\n",
    "print(f\"\\n{len(rows)} Belgian Journalist found\\n\")\n",
    "print(rows[:10])"
   ]
  },
  {
   "cell_type": "markdown",
   "metadata": {},
   "source": [
    "## Filtrer pour n'afficher que les noms contenant \"Alphonse\""
   ]
  },
  {
   "cell_type": "code",
   "execution_count": 54,
   "metadata": {},
   "outputs": [
    {
     "ename": "KeyError",
     "evalue": "'personLabel'",
     "output_type": "error",
     "traceback": [
      "\u001b[1;31m---------------------------------------------------------------------------\u001b[0m",
      "\u001b[1;31mKeyError\u001b[0m                                  Traceback (most recent call last)",
      "\u001b[1;32mc:\\Users\\beaujo\\Desktop\\travaux_tp_sticB545\\tac\\module1\\s2_sparql.ipynb Cell 7\u001b[0m line \u001b[0;36m5\n\u001b[0;32m      <a href='vscode-notebook-cell:/c%3A/Users/beaujo/Desktop/travaux_tp_sticB545/tac/module1/s2_sparql.ipynb#W6sZmlsZQ%3D%3D?line=1'>2</a>\u001b[0m max_results \u001b[39m=\u001b[39m \u001b[39m10\u001b[39m\n\u001b[0;32m      <a href='vscode-notebook-cell:/c%3A/Users/beaujo/Desktop/travaux_tp_sticB545/tac/module1/s2_sparql.ipynb#W6sZmlsZQ%3D%3D?line=3'>4</a>\u001b[0m date_format \u001b[39m=\u001b[39m \u001b[39m\"\u001b[39m\u001b[39m%\u001b[39m\u001b[39mY-\u001b[39m\u001b[39m%\u001b[39m\u001b[39mm-\u001b[39m\u001b[39m%d\u001b[39;00m\u001b[39mT\u001b[39m\u001b[39m%\u001b[39m\u001b[39mH:\u001b[39m\u001b[39m%\u001b[39m\u001b[39mM:\u001b[39m\u001b[39m%\u001b[39m\u001b[39mSZ\u001b[39m\u001b[39m\"\u001b[39m\n\u001b[1;32m----> <a href='vscode-notebook-cell:/c%3A/Users/beaujo/Desktop/travaux_tp_sticB545/tac/module1/s2_sparql.ipynb#W6sZmlsZQ%3D%3D?line=4'>5</a>\u001b[0m filtered_rows \u001b[39m=\u001b[39m [row \u001b[39mfor\u001b[39;49;00m row \u001b[39min\u001b[39;49;00m rows \u001b[39mif\u001b[39;49;00m genderLabel \u001b[39min\u001b[39;49;00m row[\u001b[39m'\u001b[39;49m\u001b[39mpersonLabel\u001b[39;49m\u001b[39m'\u001b[39;49m][\u001b[39m'\u001b[39;49m\u001b[39mvalue\u001b[39;49m\u001b[39m'\u001b[39;49m]]\n\u001b[0;32m      <a href='vscode-notebook-cell:/c%3A/Users/beaujo/Desktop/travaux_tp_sticB545/tac/module1/s2_sparql.ipynb#W6sZmlsZQ%3D%3D?line=5'>6</a>\u001b[0m \u001b[39mprint\u001b[39m(\u001b[39mf\u001b[39m\u001b[39m\"\u001b[39m\u001b[39mDisplaying the first \u001b[39m\u001b[39m{\u001b[39;00mmax_results\u001b[39m}\u001b[39;00m\u001b[39m:\u001b[39m\u001b[39m\\n\u001b[39;00m\u001b[39m\"\u001b[39m)\n\u001b[0;32m      <a href='vscode-notebook-cell:/c%3A/Users/beaujo/Desktop/travaux_tp_sticB545/tac/module1/s2_sparql.ipynb#W6sZmlsZQ%3D%3D?line=6'>7</a>\u001b[0m \u001b[39mfor\u001b[39;00m row \u001b[39min\u001b[39;00m filtered_rows[:max_results]:\n",
      "\u001b[1;32mc:\\Users\\beaujo\\Desktop\\travaux_tp_sticB545\\tac\\module1\\s2_sparql.ipynb Cell 7\u001b[0m line \u001b[0;36m5\n\u001b[0;32m      <a href='vscode-notebook-cell:/c%3A/Users/beaujo/Desktop/travaux_tp_sticB545/tac/module1/s2_sparql.ipynb#W6sZmlsZQ%3D%3D?line=1'>2</a>\u001b[0m max_results \u001b[39m=\u001b[39m \u001b[39m10\u001b[39m\n\u001b[0;32m      <a href='vscode-notebook-cell:/c%3A/Users/beaujo/Desktop/travaux_tp_sticB545/tac/module1/s2_sparql.ipynb#W6sZmlsZQ%3D%3D?line=3'>4</a>\u001b[0m date_format \u001b[39m=\u001b[39m \u001b[39m\"\u001b[39m\u001b[39m%\u001b[39m\u001b[39mY-\u001b[39m\u001b[39m%\u001b[39m\u001b[39mm-\u001b[39m\u001b[39m%d\u001b[39;00m\u001b[39mT\u001b[39m\u001b[39m%\u001b[39m\u001b[39mH:\u001b[39m\u001b[39m%\u001b[39m\u001b[39mM:\u001b[39m\u001b[39m%\u001b[39m\u001b[39mSZ\u001b[39m\u001b[39m\"\u001b[39m\n\u001b[1;32m----> <a href='vscode-notebook-cell:/c%3A/Users/beaujo/Desktop/travaux_tp_sticB545/tac/module1/s2_sparql.ipynb#W6sZmlsZQ%3D%3D?line=4'>5</a>\u001b[0m filtered_rows \u001b[39m=\u001b[39m [row \u001b[39mfor\u001b[39;00m row \u001b[39min\u001b[39;00m rows \u001b[39mif\u001b[39;00m genderLabel \u001b[39min\u001b[39;00m row[\u001b[39m'\u001b[39;49m\u001b[39mpersonLabel\u001b[39;49m\u001b[39m'\u001b[39;49m][\u001b[39m'\u001b[39m\u001b[39mvalue\u001b[39m\u001b[39m'\u001b[39m]]\n\u001b[0;32m      <a href='vscode-notebook-cell:/c%3A/Users/beaujo/Desktop/travaux_tp_sticB545/tac/module1/s2_sparql.ipynb#W6sZmlsZQ%3D%3D?line=5'>6</a>\u001b[0m \u001b[39mprint\u001b[39m(\u001b[39mf\u001b[39m\u001b[39m\"\u001b[39m\u001b[39mDisplaying the first \u001b[39m\u001b[39m{\u001b[39;00mmax_results\u001b[39m}\u001b[39;00m\u001b[39m:\u001b[39m\u001b[39m\\n\u001b[39;00m\u001b[39m\"\u001b[39m)\n\u001b[0;32m      <a href='vscode-notebook-cell:/c%3A/Users/beaujo/Desktop/travaux_tp_sticB545/tac/module1/s2_sparql.ipynb#W6sZmlsZQ%3D%3D?line=6'>7</a>\u001b[0m \u001b[39mfor\u001b[39;00m row \u001b[39min\u001b[39;00m filtered_rows[:max_results]:\n",
      "\u001b[1;31mKeyError\u001b[0m: 'personLabel'"
     ]
    }
   ],
   "source": [
    "genderLabel = 'female'\n",
    "max_results = 10\n",
    "\n",
    "date_format = \"%Y-%m-%dT%H:%M:%SZ\"\n",
    "filtered_rows = [row for row in rows if genderLabel in row['personLabel']['value']]\n",
    "print(f\"Displaying the first {max_results}:\\n\")\n",
    "for row in filtered_rows[:max_results]:\n",
    "    try:\n",
    "        birth_date = dt.strptime(row['dateBirth']['value'], date_format)\n",
    "        birth_year = birth_date.year\n",
    "    except ValueError:\n",
    "        birth_year = \"????\"\n",
    "    try:\n",
    "        death_date = dt.strptime(row['dateDeath']['value'], date_format)\n",
    "        death_year = death_date.year\n",
    "    except ValueError: # unknown death date\n",
    "        death_year = \"????\"\n",
    "    except KeyError: # still alive\n",
    "        death_year = \"\"\n",
    "    print(f\"{row['personLabel']['value']} ({birth_year}-{death_year})\")"
   ]
  },
  {
   "cell_type": "markdown",
   "metadata": {},
   "source": [
    "## Pour en savoir plus"
   ]
  },
  {
   "cell_type": "markdown",
   "metadata": {},
   "source": [
    "- [Le projet Wikidata](https://www.wikidata.org/wiki/Wikidata:Main_Page)\n",
    "- [Aide à la construction de requêtes](https://query.wikidata.org/)"
   ]
  }
 ],
 "metadata": {
  "kernelspec": {
   "display_name": "Python 3.10.5 ('venv_tac': venv)",
   "language": "python",
   "name": "python3"
  },
  "language_info": {
   "codemirror_mode": {
    "name": "ipython",
    "version": 3
   },
   "file_extension": ".py",
   "mimetype": "text/x-python",
   "name": "python",
   "nbconvert_exporter": "python",
   "pygments_lexer": "ipython3",
   "version": "3.11.6"
  },
  "vscode": {
   "interpreter": {
    "hash": "a942b0119f0c2604d4302f32a2a6e790f63eb4c9b0c297be7a26bd56fa8e02c6"
   }
  }
 },
 "nbformat": 4,
 "nbformat_minor": 4
}
