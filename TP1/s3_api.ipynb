{
 "cells": [
  {
   "cell_type": "markdown",
   "metadata": {},
   "source": [
    "# APIs: requêtes HTTP"
   ]
  },
  {
   "cell_type": "markdown",
   "metadata": {},
   "source": [
    "## Imports"
   ]
  },
  {
   "cell_type": "code",
   "execution_count": 10,
   "metadata": {},
   "outputs": [],
   "source": [
    "import json\n",
    "import requests"
   ]
  },
  {
   "cell_type": "markdown",
   "metadata": {},
   "source": [
    "## Utiliser [Nominatim](https://nominatim.org/) pour connaître les coordonnées géographiques d'une adresse"
   ]
  },
  {
   "cell_type": "markdown",
   "metadata": {},
   "source": []
  },
  {
   "cell_type": "code",
   "execution_count": 9,
   "metadata": {},
   "outputs": [
    {
     "name": "stdout",
     "output_type": "stream",
     "text": [
      "1. Title: De caesura media in Graecorum trimetro iambico dissertatio philologica .., ID: /04202/BibliographicResource_3000135683857\n",
      "1. Media/Publisher: Unknown, ID: /04202/BibliographicResource_3000135683857\n",
      "2. Title: Media-Noche : een tafereel uit den Nijmeegschen vredehandel (1678), ID: /04202/BibliographicResource_3000135686672\n",
      "2. Media/Publisher: Unknown, ID: /04202/BibliographicResource_3000135686672\n",
      "3. Title: La Matematica y la Astronomia en la edad media islamica, ID: /271/https___www_judaisme_marocain_org_6650\n",
      "3. Media/Publisher: Unknown, ID: /271/https___www_judaisme_marocain_org_6650\n",
      "4. Title: Las ciudades y las instituciones urbanas del occidente musulman en la edad media, ID: /271/https___www_judaisme_marocain_org_1258\n",
      "4. Media/Publisher: Unknown, ID: /271/https___www_judaisme_marocain_org_1258\n",
      "5. Title: L'aes grave del museo Kircheriano ovvero le monete primitive de popoli dell'Italia media, ID: /04202/BibliographicResource_3000135690985\n",
      "5. Media/Publisher: Unknown, ID: /04202/BibliographicResource_3000135690985\n",
      "6. Title: Dissertatio juridica inauguralis, de doctrinae juris criminalis incrementis, inde a saeculo duodevigesimo, media iam parte elapso, ID: /04202/BibliographicResource_3000135737257\n",
      "6. Media/Publisher: Unknown, ID: /04202/BibliographicResource_3000135737257\n",
      "7. Title: The five great monarchies of the ancient Eastern world or The history, geography and antiquities of Chaldaea, Assyria, Babylon, Media and Persia, ID: /04202/BibliographicResource_3000135654509\n",
      "7. Media/Publisher: Unknown, ID: /04202/BibliographicResource_3000135654509\n",
      "8. Title: Portret M. Elslander, ID: /2058628/KF_objecten_1343640543816546993956\n",
      "8. Media/Publisher: Unknown, ID: /2058628/KF_objecten_1343640543816546993956\n",
      "9. Title: \"Les routes du Graal\" [dut] -, ID: /2026007/fabritiusweb_LinkToVubis_csp_DataBib_2_9617_Language_dut\n",
      "9. Media/Publisher: Unknown, ID: /2026007/fabritiusweb_LinkToVubis_csp_DataBib_2_9617_Language_dut\n",
      "10. Title: Uitstap Sportjournalisten, Oostende 1959, ID: /2023009/23096B51_priref_22565\n",
      "10. Media/Publisher: Unknown, ID: /2023009/23096B51_priref_22565\n",
      "11. Title: Sportjournalisten 1952, ID: /2023009/23096B51_priref_22569\n",
      "11. Media/Publisher: Unknown, ID: /2023009/23096B51_priref_22569\n",
      "12. Title: Internationaal Congres Sportpers te Oostende 26 juni 1932, ID: /2023009/23096B51_priref_22574\n",
      "12. Media/Publisher: Unknown, ID: /2023009/23096B51_priref_22574\n",
      "13. Title: Sportjournalisten 1954, ID: /2023009/23096B51_priref_22570\n",
      "13. Media/Publisher: Unknown, ID: /2023009/23096B51_priref_22570\n",
      "14. Title: Jubilé Sportjournalisten (25 jaar) Stadhuis Gent, december 1945, ID: /2023009/23096B51_priref_22561\n",
      "14. Media/Publisher: Unknown, ID: /2023009/23096B51_priref_22561\n",
      "15. Title: Sportjournalisten, Tour de France 1952, ID: /2023009/23096B51_priref_22568\n",
      "15. Media/Publisher: Unknown, ID: /2023009/23096B51_priref_22568\n",
      "16. Title: Sportjournalist van Berge, Tour de France 1950, ID: /2023009/23096B51_priref_22572\n",
      "16. Media/Publisher: Unknown, ID: /2023009/23096B51_priref_22572\n",
      "17. Title: 50 Jarig bestaan Bond Belgische Sportjournalisten afdeling Vlaanderen, 25-26/10/1963, ID: /2023009/23096B51_priref_22562\n",
      "17. Media/Publisher: Unknown, ID: /2023009/23096B51_priref_22562\n",
      "18. Title: Uitgever Constant Cleiren - Hoofdopsteller bij Het Sportblad. Geboren in Zandvliet op 3 mei 1881; overleden in Antwerpen op 28 mei 1940. Hij was de allereerste publicist van een sportkrant in de Vlaamse Taal., ID: /2023009/23096B51_priref_22567\n",
      "18. Media/Publisher: Unknown, ID: /2023009/23096B51_priref_22567\n",
      "19. Title: Kongreszaal Brussel maandag 15 december 1958. Minister P. Meyers (Minister van Openbare Werken en Wederopbouw) overhandigde voor de eerste maal \"Plaket van de Minister van Volksgezondheid en het Gezin\". Rechts de heer Victor Boin voorzitter van het Olympisch Comité., ID: /2023009/23096B51_priref_22564\n",
      "19. Media/Publisher: Unknown, ID: /2023009/23096B51_priref_22564\n",
      "20. Title: Campagnolo Tullio (11th November 1927, President and Managing director of S.P.A. Brevetti Internazionali Campagnolo, victorious on the Dolomites snows)(°), ID: /2023009/23096B51_priref_10059\n",
      "20. Media/Publisher: Unknown, ID: /2023009/23096B51_priref_10059\n",
      "21. Title: Wenskaart [dut] -, ID: /2026007/fabritiusweb_LinkToVubis_csp_DataBib_2_8919_Language_dut\n",
      "21. Media/Publisher: Unknown, ID: /2026007/fabritiusweb_LinkToVubis_csp_DataBib_2_8919_Language_dut\n",
      "22. Title: brochure, ID: /2048208/europeana_fashion_63027\n",
      "22. Media/Publisher: Unknown, ID: /2048208/europeana_fashion_63027\n",
      "23. Title: View of the state of Europe during the middle ages, ID: /04202/BibliographicResource_3000135687843\n",
      "23. Media/Publisher: Unknown, ID: /04202/BibliographicResource_3000135687843\n",
      "24. Title: Costumes historiques des XIIIe, XIVe et XVe siècles extraits des monuments les plus authentiques de peinture et de sculpture, ID: /04202/BibliographicResource_3000135664723\n",
      "24. Media/Publisher: Unknown, ID: /04202/BibliographicResource_3000135664723\n",
      "25. Title: Vie militaire et religieuse au moyen âge et à l'époque de la renaissance, ID: /04202/BibliographicResource_3000135618313\n",
      "25. Media/Publisher: Unknown, ID: /04202/BibliographicResource_3000135618313\n",
      "26. Title: Monsignor Renou, ID: /2024903/photography_ProvidedCHO_KU_Leuven_9983742420101488\n",
      "26. Media/Publisher: Unknown, ID: /2024903/photography_ProvidedCHO_KU_Leuven_9983742420101488\n",
      "27. Title: Histoire de la chute de l'émpire romain et du déclin de la civilisation, de l'an 250 a l'an 1000, ID: /04202/BibliographicResource_3000135708954\n",
      "27. Media/Publisher: Unknown, ID: /04202/BibliographicResource_3000135708954\n",
      "28. Title: Adolpho Hebbelynck, ID: /2024903/photography_ProvidedCHO_KU_Leuven_9983724370101488\n",
      "28. Media/Publisher: Unknown, ID: /2024903/photography_ProvidedCHO_KU_Leuven_9983724370101488\n",
      "29. Title: Edward Sackville, ID: /2024903/photography_ProvidedCHO_KU_Leuven_9983491810101488\n",
      "29. Media/Publisher: Unknown, ID: /2024903/photography_ProvidedCHO_KU_Leuven_9983491810101488\n",
      "30. Title: Sr. John Trenchard, ID: /2024903/photography_ProvidedCHO_KU_Leuven_9983492280101488\n",
      "30. Media/Publisher: Unknown, ID: /2024903/photography_ProvidedCHO_KU_Leuven_9983492280101488\n",
      "31. Title: Votre serviteur très discret: le fil d'acier, ID: /08623/20065\n",
      "31. Media/Publisher: Unknown, ID: /08623/20065\n",
      "32. Title: Charles Earl of Derby, ID: /2024903/photography_ProvidedCHO_KU_Leuven_9983258380101488\n",
      "32. Media/Publisher: Unknown, ID: /2024903/photography_ProvidedCHO_KU_Leuven_9983258380101488\n",
      "33. Title: John Thurloe, ID: /2024903/photography_ProvidedCHO_KU_Leuven_9983493330101488\n",
      "33. Media/Publisher: Unknown, ID: /2024903/photography_ProvidedCHO_KU_Leuven_9983493330101488\n",
      "34. Title: John Charles Herries, ID: /2024903/photography_ProvidedCHO_KU_Leuven_9983779720101488\n",
      "34. Media/Publisher: Unknown, ID: /2024903/photography_ProvidedCHO_KU_Leuven_9983779720101488\n",
      "35. Title: Bishop Pieraerts, ID: /2024903/photography_ProvidedCHO_KU_Leuven_9980799350101488\n",
      "35. Media/Publisher: Unknown, ID: /2024903/photography_ProvidedCHO_KU_Leuven_9980799350101488\n",
      "36. Title: Sir Robert Peel, ID: /2024903/photography_ProvidedCHO_KU_Leuven_9983890380101488\n",
      "36. Media/Publisher: Unknown, ID: /2024903/photography_ProvidedCHO_KU_Leuven_9983890380101488\n",
      "37. Title: Sir Richard Stayner, ID: /2024903/photography_ProvidedCHO_KU_Leuven_9983491830101488\n",
      "37. Media/Publisher: Unknown, ID: /2024903/photography_ProvidedCHO_KU_Leuven_9983491830101488\n",
      "38. Title: George Earl of Berkeley, ID: /2024903/photography_ProvidedCHO_KU_Leuven_9983492250101488\n",
      "38. Media/Publisher: Unknown, ID: /2024903/photography_ProvidedCHO_KU_Leuven_9983492250101488\n",
      "39. Title: De overwinning voor Leuven. op den 12den augustus 1831, ID: /2023006/24062A51_priref_23872\n",
      "39. Media/Publisher: Unknown, ID: /2023006/24062A51_priref_23872\n",
      "40. Title: De overwinning voor Leuven. op den 12den augustus 1831, ID: /2023006/24062A51_priref_23871\n",
      "40. Media/Publisher: Unknown, ID: /2023006/24062A51_priref_23871\n",
      "41. Title: onderrok, ID: /2048208/europeana_fashion_OBJ36134\n",
      "41. Media/Publisher: Unknown, ID: /2048208/europeana_fashion_OBJ36134\n",
      "42. Title: William Huskisson, ID: /2024903/photography_ProvidedCHO_KU_Leuven_9983779560101488\n",
      "42. Media/Publisher: Unknown, ID: /2024903/photography_ProvidedCHO_KU_Leuven_9983779560101488\n",
      "43. Title: Lang hemd, van wit katoen., ID: /2048208/europeana_fashion_http___data_momu_be_ark_34546_mpnw36\n",
      "43. Media/Publisher: Unknown, ID: /2048208/europeana_fashion_http___data_momu_be_ark_34546_mpnw36\n",
      "44. Title: Endymion Porter, ID: /2024903/photography_ProvidedCHO_KU_Leuven_9983492010101488\n",
      "44. Media/Publisher: Unknown, ID: /2024903/photography_ProvidedCHO_KU_Leuven_9983492010101488\n",
      "45. Title: hemd, ID: /2048208/europeana_fashion_10658\n",
      "45. Media/Publisher: Unknown, ID: /2048208/europeana_fashion_10658\n",
      "46. Title: Lang hemd, voor een kind, van witte katoen. Ronde, wijde halslijn die uitloopt in een split, en is aangerimpeld. Korte mouwen. Halslijn en uiteinde van de mouwen zijn geschulpt afgewerkt. Sluit middenvoor met twee knopen, waarvan één met stof bekleed en één wit glasknoopje., ID: /2048208/europeana_fashion_http___data_momu_be_ark_34546_mpnw34\n",
      "46. Media/Publisher: Unknown, ID: /2048208/europeana_fashion_http___data_momu_be_ark_34546_mpnw34\n",
      "47. Title: hemd, ID: /2048208/europeana_fashion_10657\n",
      "47. Media/Publisher: Unknown, ID: /2048208/europeana_fashion_10657\n",
      "48. Title: Halflange, lichtgroene rok in A-lijn. De rok komt net tot onder de knie. Er is een stevige, ecrukleurige onderrok. In één van de naden zit een ritssluiting en een haakje., ID: /2048208/europeana_fashion_http___data_momu_be_ark_34546_m98skw\n",
      "48. Media/Publisher: Unknown, ID: /2048208/europeana_fashion_http___data_momu_be_ark_34546_m98skw\n",
      "49. Title: LES FUNERAILLES DU ROI ALBERT, ID: /08623/12923\n",
      "49. Media/Publisher: Unknown, ID: /08623/12923\n",
      "50. Title: Onderhemd van witte katoenen lawn. Omgeslagen kraagje van machinaal geborduurde strook en afgezet met machinaal  kant. Aangerimpeld ingezette schouderpas, afgezet met een machinaal geborduurde strook. Aangerimpeld ingezette lange mouwen, afgezet bij de polsen met een aangerimpelde strook machinaal borduurwerk en kant, met drie knoopsgaten. Voorpanden aangerimpeld aangezet aan de schouderpas, en op rechter voorpand langs middenvoor afgezet met een machinaal geborduurde strook en twee aangerimpelde stroken met kant. Rugpand met tunnel op taillehoogte met twee rijgkoorden. Sluit middenvoor door middel van vier knoopsgaten en knopen (één glasknoopje, één witte stofomtrokken knoopje, twee ontbreken)., ID: /2048208/europeana_fashion_http___data_momu_be_ark_34546_mcc2mk\n",
      "50. Media/Publisher: Unknown, ID: /2048208/europeana_fashion_http___data_momu_be_ark_34546_mcc2mk\n",
      "51. Title: Robert Earl of Ailesbury, ID: /2024903/photography_ProvidedCHO_KU_Leuven_9983492230101488\n",
      "51. Media/Publisher: Unknown, ID: /2024903/photography_ProvidedCHO_KU_Leuven_9983492230101488\n",
      "52. Title: L'EMOUVANT ADIEU A ALBERT I, ID: /08623/12919\n",
      "52. Media/Publisher: Unknown, ID: /08623/12919\n",
      "53. Title: Onderhemd van witte katoenen batist. Kort, wijd model. Omgeslagen kraag afgezet met een machinaal geborduurde strook in floraal motief en een smalle strook Valenciennes-kant. Aangerimpelde schouderpas. Aangerimpeld ingezette lange mouwen, met twee machinaal geborduurde stroken, met daartussen een aangerimpelde strook batist, en drie witte stofomtrokken knoopjes bij de polsen. Drie verticale machinaal geborduurde stroken op middenvoor en links en rechts daarvan, elk afgezet met Valenciennes-kant. Tunnel aan binnenzijde van achterpand op taillehoogte. Onzichtbare sluiting middenvoor door middel van vier knoopsgaten en knopen (ontbreken)., ID: /2048208/europeana_fashion_http___data_momu_be_ark_34546_mh18g2\n",
      "53. Media/Publisher: Unknown, ID: /2048208/europeana_fashion_http___data_momu_be_ark_34546_mh18g2\n",
      "54. Title: onderrok, ID: /2048226/europeana_fashion_80341\n",
      "54. Media/Publisher: Unknown, ID: /2048226/europeana_fashion_80341\n",
      "55. Title: A. Petticoat in white cotton, with a very wide flounce made up of strips of cotton with sewn-in couples and strips of machine lace; above the flounce, an interlacing piece in machine embroidery with pink satin ribbon B.C. fringed strips for matching panties, ID: /2048208/europeana_fashion_OBJ10625\n",
      "55. Media/Publisher: Unknown, ID: /2048208/europeana_fashion_OBJ10625\n"
     ]
    }
   ],
   "source": [
    "\n",
    "\n",
    "def fetch_europeana_data(api_key, query, rows=100):\n",
    "    endpoint = \"https://api.europeana.eu/record/v2/search.json\"\n",
    "    params = {\n",
    "        'wskey': api_key,\n",
    "        'query': query,\n",
    "        'rows': rows,\n",
    "        'qf': ['COUNTRY:belgium', 'YEAR:[1800 TO 1960]']  # Filtrer par pays et année\n",
    "    }\n",
    "    \n",
    "    response = requests.get(endpoint, params=params)\n",
    "    \n",
    "    if response.status_code == 200:\n",
    "        return response.json()\n",
    "    else:\n",
    "        print(f\"Error: Unable to fetch data (Status code: {response.status_code})\")\n",
    "        return None\n",
    "\n",
    "# clé API \n",
    "api_key = 'noserticirf'\n",
    "query = 'media'  # pour avoir les media belge entre 1800 et 1900\n",
    "\n",
    "data = fetch_europeana_data(api_key, query)\n",
    "\n",
    "if data:\n",
    "    items = data.get('items', [])\n",
    "    for i, item in enumerate(items, 1):\n",
    "        print(f\"{i}. Title: {item['title'][0]}, ID: {item['id']}\") #extrai les titre de media produit en belgique\n",
    "\n",
    "    # extraction du nom du média ou de l'éditeur\n",
    "        media_or_publisher_name = item.get('dcPublisher', ['Unknown'])[0] if item.get('dcPublisher') else \"Unknown\"\n",
    "        print(f\"{i}. Media/Publisher: {media_or_publisher_name}, ID: {item['id']}\")    \n",
    "\n"
   ]
  },
  {
   "cell_type": "markdown",
   "metadata": {},
   "source": [
    "## Utiliser REST Countries pour récupérer des informations sur un pays"
   ]
  },
  {
   "cell_type": "markdown",
   "metadata": {},
   "source": [
    "https://restcountries.com/"
   ]
  },
  {
   "cell_type": "code",
   "execution_count": 3,
   "metadata": {},
   "outputs": [
    {
     "name": "stdout",
     "output_type": "stream",
     "text": [
      "Languages: German, French, Dutch\n",
      "Borders: France, Germany, Luxembourg, Netherlands\n"
     ]
    }
   ],
   "source": [
    "country_name = \"Belgium\"\n",
    "\n",
    "base_url = \"http://restcountries.com/v3.1/\"\n",
    "name_url = base_url + \"name/\"\n",
    "code_url = base_url + \"alpha/\"\n",
    "resp = requests.get(name_url + country_name)\n",
    "country = resp.json()[0]\n",
    "try:\n",
    "    languages = country['languages']\n",
    "    print(f\"Languages: {', '.join(languages.values())}\")\n",
    "    border_codes = country['borders']\n",
    "    border_names = []\n",
    "    for code in border_codes:\n",
    "        resp = requests.get(code_url + code)\n",
    "        border_country = resp.json()[0]\n",
    "        border_name = border_country[\"name\"][\"common\"]\n",
    "        border_names.append(border_name)\n",
    "    print(f\"Borders: {', '.join(border_names)}\")\n",
    "except KeyError:\n",
    "    print(\"Unknown country, please use English or native name\")"
   ]
  },
  {
   "cell_type": "markdown",
   "metadata": {},
   "source": [
    "## Pour en savoir plus"
   ]
  },
  {
   "cell_type": "markdown",
   "metadata": {},
   "source": [
    "- Les API Rest: https://towardsdatascience.com/introduction-to-rest-apis-90b5d9676004\n",
    "- La librairie [`requests`](https://requests.readthedocs.io/en/latest/)\n",
    "- Développer une API en Python : https://openclassrooms.com/en/courses/4525361-realisez-un-dashboard-avec-tableau/5774811-creez-une-api-avec-flask"
   ]
  }
 ],
 "metadata": {
  "kernelspec": {
   "display_name": "Python 3.10.5 ('tac_venv': venv)",
   "language": "python",
   "name": "python3"
  },
  "language_info": {
   "codemirror_mode": {
    "name": "ipython",
    "version": 3
   },
   "file_extension": ".py",
   "mimetype": "text/x-python",
   "name": "python",
   "nbconvert_exporter": "python",
   "pygments_lexer": "ipython3",
   "version": "3.11.6"
  },
  "vscode": {
   "interpreter": {
    "hash": "b1932ab1d169b4769d1550e799423b6477588e745f266d79d9004c136c81607e"
   }
  }
 },
 "nbformat": 4,
 "nbformat_minor": 4
}
